{
 "cells": [
  {
   "cell_type": "code",
   "execution_count": 1,
   "metadata": {},
   "outputs": [
    {
     "name": "stdout",
     "output_type": "stream",
     "text": [
      "Done\n"
     ]
    },
    {
     "name": "stderr",
     "output_type": "stream",
     "text": [
      "[nltk_data] Downloading package brown to\n",
      "[nltk_data]     /Users/kierankeesmaat/nltk_data...\n",
      "[nltk_data]   Package brown is already up-to-date!\n"
     ]
    }
   ],
   "source": [
    "import torch\n",
    "from torch import nn\n",
    "from torch.utils.data import Dataset, DataLoader, random_split\n",
    "import nltk, string, random, numpy, os\n",
    "import matplotlib.pyplot as plt\n",
    "from typing import List\n",
    "os.makedirs('./results', exist_ok=True)\n",
    "nltk.download('brown')\n",
    "random.seed(42)\n",
    "torch.manual_seed(42)\n",
    "numpy.random.seed(42)\n",
    "print(\"Done\")"
   ]
  },
  {
   "cell_type": "markdown",
   "metadata": {},
   "source": [
    "### Introduction\n",
    "In the warm-up of this assignment, we will see how Neural Networks (NN) handle natural language data.   \n",
    "The warm-up focuses on a simple Multilayer Perceptron (MLP), also known as a fully connected Neural Network. The data we'll use is the first 5000 unique words of the Brown corpus.\n",
    "\n",
    "### Dataset\n",
    "To train the model, we will have to represent the input words to the model in some way. Since models solely work with numbers, the words will have to be converted into numerical form.  \n",
    "For this assignment, we will focus on predicting individual words from the dataset given the input of the model. The input will be the target word split up into individual letters. To represent these individual letters we will give the model a vector of 26 positions (26 letters in the English alphabet). Initially, this vector is filled with zeros and for every occuring letter in the word we change the value to 1 in that position. For instance, in the word `apple', we have 1 a, 1 e, 1 l and 2 p. The vector will then represent the word as:  \n",
    "```[1,0,0,0,1,0,0,0,0,0,0,1,0,0,0,2,0,0,0,0,0,0,0,0,0,0]```  \n",
    "You will have to implement this algorithm together with loading the Brown dataset and taking the first 5000 unique words. Implement a way to store the indexes of the unique words as a dictionary where the word is the key and the index is the value as well as the target list (which will be just the indexes of the words)."
   ]
  },
  {
   "cell_type": "code",
   "execution_count": 2,
   "metadata": {},
   "outputs": [],
   "source": [
    "#  import brown corpus       \n",
    "from nltk.corpus import brown\n",
    "\n",
    "class AlphaDataset(Dataset):\n",
    "    def __init__(self) -> None:\n",
    "        # Load the NLTK Brown corpus and store the first 5000 unique words of the corpus in self.data\n",
    "        self.data = []\n",
    "        \n",
    "        # get the brown corpus words and create a seen words set to keep track of already seen words\n",
    "        brown_words = [word.lower() for word in brown.words()]\n",
    "        seen_words = set()\n",
    "        \n",
    "        # loop through the brown words until 5000 unique words have been found\n",
    "        for word in brown_words:\n",
    "            if word.isalpha() and word not in seen_words:\n",
    "                seen_words.add(word)\n",
    "                self.data.append(word)\n",
    "            if len(self.data) == 5000:\n",
    "                break\n",
    "        \n",
    "        # Convert the unique words to an index dictionary {word: index}\n",
    "        self.word_to_idx = {}\n",
    "        for idx, word in enumerate(self.data):\n",
    "            self.word_to_idx[word] = idx\n",
    "            \n",
    "        # Make these indexes the target values\n",
    "        self.targets = []\n",
    "        for word in self.data:\n",
    "            self.targets.append(self.word_to_idx[word])\n",
    "\n",
    "    def __len__(self) -> int:\n",
    "        # Torch requires the implementation of the length function to calculate the number of instances in the dataset. Find a way to implement this\n",
    "        return len(self.data)\n",
    "\n",
    "    def __getitem__(self, index):\n",
    "        x = self.data[index]\n",
    "        y = self.targets[index]\n",
    "        \n",
    "        # Apply processing to turn the word (stored in x) into a numeric vector of 26 numbers, counting the occurences of the letters.\n",
    "        # Example: apple would become [1,0,0,0,1,0,0,0,0,0,0,1,0,0,0,2,0,0,0,0,0,0,0,0,0,0], counting 2 occurences for the letter p and zero for letters that do not occur.\n",
    "        \n",
    "        # create blank vector\n",
    "        vector = [0] * 26\n",
    "        \n",
    "        # loop through letters in word (x)\n",
    "        for char in x:\n",
    "            \n",
    "            # make sure character is lowercase letter get index and add to vector\n",
    "            if char in string.ascii_lowercase:\n",
    "                index = ord(char) - ord('a')\n",
    "                vector[index] += 1\n",
    "                \n",
    "        x = vector\n",
    "        x = torch.tensor(x, dtype=torch.float32)\n",
    "        y = torch.tensor(y, dtype=torch.long)\n",
    "        return x, y\n",
    "    "
   ]
  },
  {
   "cell_type": "markdown",
   "metadata": {},
   "source": [
    "### Multilayer Perceptron\n",
    "In the following section, you will implement a MLP. The goal is to implement this MLP with 1 input layer, 2 hidden layers, and 1 output layer.\n",
    "With PyTorch, the linear layer is most suitable for this. When you create a linear layer, you define the input and output size of the layer, effectively creating two linear neuron layers. This is useful to know since we only need to create 3 linear layer classes to have the 4 layers we want.\n",
    "The hidden size is stored as a list where the first value will be 256 and the second value will be 512."
   ]
  },
  {
   "cell_type": "code",
   "execution_count": 3,
   "metadata": {},
   "outputs": [],
   "source": [
    "class MLP(nn.Module):\n",
    "    def __init__(self, input_size: int, hidden_size: List[int], output_size: int) -> None:\n",
    "        super().__init__()\n",
    "        # Implement the neural network layers, the activation function is already defined\n",
    "        self.input_layer = nn.Linear(input_size, hidden_size[0])\n",
    "        self.hidden_layer = nn.Linear(hidden_size[0], hidden_size[1])\n",
    "        self.output_layer = nn.Linear(hidden_size[1], output_size)\n",
    "\n",
    "        self.activation = nn.ReLU()\n",
    "\n",
    "    def forward(self, x: torch.Tensor) -> torch.Tensor:\n",
    "        # In the forward pass the model will calculate the gradients as well as the probabilities of the result occuring given its input.\n",
    "        # Implement the missing layers\n",
    "\n",
    "        x = self.input_layer(x) # Implement input layer\n",
    "        x = self.activation(x)\n",
    "        x = self.hidden_layer(x) # Implement hidden layer\n",
    "        x = self.activation(x)\n",
    "        x = self.output_layer(x) # Implement the output layer\n",
    "\n",
    "        return x"
   ]
  },
  {
   "cell_type": "markdown",
   "metadata": {},
   "source": [
    "### Setting up the hyperparameters\n",
    "These are the hyperparameters used for the model, they define the layout of the model as well as the performance:\n",
    "- batch_size, defines the number of instances the model sees at one time.\n",
    "- learning_rate, defines the change rate of the gradient descent.\n",
    "- input_size, the number of input neurons for the model, the number of letters in the alphabet\n",
    "- hidden_size, the number of neurons in the hidden layer\n",
    "- output_size, the number of neurons in the output layer, for us this is the number of unqiue words"
   ]
  },
  {
   "cell_type": "code",
   "execution_count": 4,
   "metadata": {},
   "outputs": [],
   "source": [
    "batch_size = 8\n",
    "learning_rate = 1e-5\n",
    "input_size = 26\n",
    "hidden_size = [256, 512]\n",
    "output_size = 5000\n",
    "device = 'mps' # If you have an m1 macbook use: 'mbs', if you have an NVIDIA GPU use: 'cuda:0' else leave as is"
   ]
  },
  {
   "cell_type": "markdown",
   "metadata": {},
   "source": [
    "Setting up the dataset"
   ]
  },
  {
   "cell_type": "code",
   "execution_count": 5,
   "metadata": {},
   "outputs": [],
   "source": [
    "# Define the dataset and the dataloader\n",
    "dataset = AlphaDataset()\n",
    "\n",
    "# For the final evaluation of the model we will use 20% of the data for testing. Testing is only ever done after hyperparameter tuning.\n",
    "# Split sizes (80% train, 20% test)\n",
    "train_size = int(0.8 * len(dataset))\n",
    "test_size = len(dataset) - train_size\n",
    "train_dataset, test_dataset = random_split(dataset, [train_size, test_size])\n",
    "\n",
    "# To evaluate our model we want to take 10% of the dataset for validation, this is similar to the testset, rather this data we can use during hyperparameter tuning.\n",
    "# The validation and test data is never trained on and is unseen data for the model, making it closer to a production setting.\n",
    "train_size = int(0.9 * len(train_dataset))\n",
    "val_size = len(train_dataset) - train_size\n",
    "train_dataset, val_dataset = random_split(train_dataset, [train_size, val_size])\n",
    "\n",
    "train_loader = DataLoader(train_dataset, batch_size=batch_size, shuffle=True) # Shuffling ensures the model does not overfit on ordering of the data.\n",
    "test_loader = DataLoader(test_dataset, batch_size=batch_size, shuffle=False) # This data does not need to be shuffled\n",
    "val_loader = DataLoader(val_dataset, batch_size=batch_size, shuffle=False)  #T his data does not need to be shuffled"
   ]
  },
  {
   "cell_type": "markdown",
   "metadata": {},
   "source": [
    "### Preperation for training\n",
    "Here we load the model into memory, apply it to the selected device and define the optimizer. The optimizer guides the model to the best possible state it can be in through Gradient descent.\n",
    "Lastly, the loss function is defined, this defines how well the model performs, based on this number the model knows how it should change its weights."
   ]
  },
  {
   "cell_type": "code",
   "execution_count": 6,
   "metadata": {},
   "outputs": [],
   "source": [
    "model = MLP(input_size, hidden_size, output_size)\n",
    "model.to(device) # Tell de model which accelerator to use (Macbook GPU, NVIDIA GPU or CPU)\n",
    "\n",
    "# In Neural Networks optimizers handle the efficient training through gradient descent, we will use Adam\n",
    "optimizer = torch.optim.Adam(params=model.parameters(), lr=learning_rate)\n",
    "\n",
    "# The loss function defines how well the model is performing, if the loss is low the model is rewarded, if it is high the model is punished.\n",
    "# Since we are dealing with a classification task we will use Cross Entropy\n",
    "loss_fn = nn.CrossEntropyLoss()"
   ]
  },
  {
   "cell_type": "markdown",
   "metadata": {},
   "source": [
    "### Training\n",
    "In the next block the training block is already defined. This is a standard way to train the model for 50 epochs (50 times it will see the dataset). Each time it does one epoch we also go over the validationset."
   ]
  },
  {
   "cell_type": "code",
   "execution_count": 7,
   "metadata": {},
   "outputs": [
    {
     "name": "stdout",
     "output_type": "stream",
     "text": [
      "Training_loss: 8.533097267150879\n",
      "Validation_loss: 1.0698297429084778\n",
      "Training_loss: 8.46747875213623\n",
      "Validation_loss: 1.0805800461769104\n",
      "Training_loss: 8.311607360839844\n",
      "Validation_loss: 1.0982918190956115\n",
      "Training_loss: 8.251202583312988\n",
      "Validation_loss: 1.128314425945282\n",
      "Training_loss: 7.983465671539307\n",
      "Validation_loss: 1.1727497506141662\n",
      "Training_loss: 7.970180511474609\n",
      "Validation_loss: 1.227898862361908\n",
      "Training_loss: 7.916754245758057\n",
      "Validation_loss: 1.2880531644821167\n",
      "Training_loss: 7.763303756713867\n",
      "Validation_loss: 1.349501233100891\n",
      "Training_loss: 7.631609916687012\n",
      "Validation_loss: 1.4107510113716126\n",
      "Training_loss: 7.309067726135254\n",
      "Validation_loss: 1.472150411605835\n",
      "Training_loss: 7.424538612365723\n",
      "Validation_loss: 1.5343356680870057\n",
      "Training_loss: 7.485544204711914\n",
      "Validation_loss: 1.5976407098770142\n",
      "Training_loss: 7.196179389953613\n",
      "Validation_loss: 1.6628162360191345\n",
      "Training_loss: 7.192887306213379\n",
      "Validation_loss: 1.7299873805046082\n",
      "Training_loss: 7.00924015045166\n",
      "Validation_loss: 1.7995015335083009\n",
      "Training_loss: 6.82741641998291\n",
      "Validation_loss: 1.871378788948059\n",
      "Training_loss: 6.53710412979126\n",
      "Validation_loss: 1.9461625719070434\n",
      "Training_loss: 6.473060607910156\n",
      "Validation_loss: 2.022699222564697\n",
      "Training_loss: 6.485659599304199\n",
      "Validation_loss: 2.1018489313125612\n",
      "Training_loss: 6.4912872314453125\n",
      "Validation_loss: 2.183479948043823\n",
      "Training_loss: 5.688979625701904\n",
      "Validation_loss: 2.266491768360138\n",
      "Training_loss: 5.516391754150391\n",
      "Validation_loss: 2.35179851770401\n",
      "Training_loss: 5.688956260681152\n",
      "Validation_loss: 2.4393554496765137\n",
      "Training_loss: 5.932102203369141\n",
      "Validation_loss: 2.5285233449935913\n",
      "Training_loss: 5.701405048370361\n",
      "Validation_loss: 2.6187767124176027\n",
      "Training_loss: 5.50337028503418\n",
      "Validation_loss: 2.711225109100342\n",
      "Training_loss: 4.869340896606445\n",
      "Validation_loss: 2.804929337501526\n",
      "Training_loss: 5.475481033325195\n",
      "Validation_loss: 2.8995230627059936\n",
      "Training_loss: 4.94433069229126\n",
      "Validation_loss: 2.9947698402404783\n",
      "Training_loss: 4.56059455871582\n",
      "Validation_loss: 3.091672978401184\n",
      "Training_loss: 4.862746238708496\n",
      "Validation_loss: 3.188338017463684\n",
      "Training_loss: 5.113459587097168\n",
      "Validation_loss: 3.285879554748535\n",
      "Training_loss: 4.550952911376953\n",
      "Validation_loss: 3.3832116603851317\n",
      "Training_loss: 4.542484283447266\n",
      "Validation_loss: 3.4816862535476685\n",
      "Training_loss: 4.07305908203125\n",
      "Validation_loss: 3.579871916770935\n",
      "Training_loss: 4.325174331665039\n",
      "Validation_loss: 3.678162999153137\n",
      "Training_loss: 4.067471504211426\n",
      "Validation_loss: 3.777222113609314\n",
      "Training_loss: 3.4441709518432617\n",
      "Validation_loss: 3.8744149303436277\n",
      "Training_loss: 3.9734883308410645\n",
      "Validation_loss: 3.972628602981567\n",
      "Training_loss: 3.395507574081421\n",
      "Validation_loss: 4.07029040813446\n",
      "Training_loss: 3.052002429962158\n",
      "Validation_loss: 4.1677553796768185\n",
      "Training_loss: 3.973557233810425\n",
      "Validation_loss: 4.26503695487976\n",
      "Training_loss: 3.813035488128662\n",
      "Validation_loss: 4.362016916275024\n",
      "Training_loss: 3.0580453872680664\n",
      "Validation_loss: 4.458436632156372\n",
      "Training_loss: 3.4449586868286133\n",
      "Validation_loss: 4.554275817871094\n",
      "Training_loss: 3.2088117599487305\n",
      "Validation_loss: 4.650275602340698\n",
      "Training_loss: 2.7320337295532227\n",
      "Validation_loss: 4.745291328430175\n",
      "Training_loss: 2.8630480766296387\n",
      "Validation_loss: 4.839594678878784\n",
      "Training_loss: 3.1650288105010986\n",
      "Validation_loss: 4.933271389007569\n",
      "Training_loss: 2.6644272804260254\n",
      "Validation_loss: 5.026682806015015\n"
     ]
    }
   ],
   "source": [
    "training_losses = []\n",
    "validation_losses = []\n",
    "\n",
    "for epoch in range(50): # Train for 50 epochs\n",
    "    model.train() # Enforce model training\n",
    "    for step, (x, y) in enumerate(train_loader):\n",
    "        x = x.to(device)\n",
    "        y = y.to(device)\n",
    "\n",
    "        output = model(x)\n",
    "\n",
    "        loss = loss_fn(output, y)\n",
    "\n",
    "        training_losses.append(loss.item())\n",
    "        print(loss.item(), end='\\r')\n",
    "\n",
    "        loss.backward() # Calculate gradients\n",
    "\n",
    "        optimizer.step() # Reward the model\n",
    "        optimizer.zero_grad() # Clean the gradients\n",
    "    print('Training_loss:', loss.item())\n",
    "\n",
    "    model.eval() # After every training epoch we want to see the model's performance on the validation data\n",
    "    with torch.no_grad(): # In validation we dont need gradients so we tell torch to not calculate them\n",
    "        total_val_loss = 0\n",
    "        for step, (x, y) in enumerate(val_loader):\n",
    "            x = x.to(device)\n",
    "            y = y.to(device)\n",
    "\n",
    "            output = model(x)\n",
    "\n",
    "            loss = loss_fn(output, y)\n",
    "\n",
    "            total_val_loss += loss.item()\n",
    "\n",
    "        validation_losses.append(total_val_loss / len(val_dataset))\n",
    "        print('Validation_loss:', validation_losses[-1])"
   ]
  },
  {
   "cell_type": "markdown",
   "metadata": {},
   "source": [
    "### Writing\n",
    "Below we can print the training statistics, the training loss should be going down while the validation loss should be going up. What does it mean that the validation loss increases?\n",
    "\n",
    "This means that our model is overfitting to the specifics of the training data and is not generalising well to the unseen validation data."
   ]
  },
  {
   "cell_type": "code",
   "execution_count": 8,
   "metadata": {},
   "outputs": [
    {
     "data": {
      "image/png": "[encoded data removed]",
      "text/plain": [
       "<Figure size 960x720 with 1 Axes>"
      ]
     },
     "metadata": {},
     "output_type": "display_data"
    }
   ],
   "source": [
    "plt.rcParams['figure.dpi'] = 150\n",
    "plt.plot(training_losses)\n",
    "plt.xlabel('steps')\n",
    "plt.ylabel('loss')\n",
    "plt.title('Training Loss')\n",
    "plt.savefig('./results/training_loss.png')"
   ]
  },
  {
   "cell_type": "code",
   "execution_count": 9,
   "metadata": {},
   "outputs": [
    {
     "data": {
      "image/png": "[encoded data removed]",
      "text/plain": [
       "<Figure size 960x720 with 1 Axes>"
      ]
     },
     "metadata": {},
     "output_type": "display_data"
    }
   ],
   "source": [
    "plt.plot(validation_losses)\n",
    "plt.xlabel('steps')\n",
    "plt.ylabel('loss')\n",
    "plt.title('Validation Loss')\n",
    "plt.savefig('./results/validation_loss.png')"
   ]
  },
  {
   "cell_type": "markdown",
   "metadata": {},
   "source": [
    "### Writing\n",
    "Below we want to analyze how the model functions based on the test data. What stands out from these results? Was the result correct? What is the main difference between the words?\n",
    "\n",
    "The model results were not very accurate. As can be seen, only two of the predictions are somewhat semantically related to the target (e.g dividing predicted for division and succeed predicted for succeeds). The rest do not appear to show any semantic similarity (e.g precinct predicted for accepting and plays predicted for polls), however, there is a lot of character overlap. For example, the model predicted motions for composition and it can be seen that each character in motions appears at least once in composition."
   ]
  },
  {
   "cell_type": "code",
   "execution_count": 14,
   "metadata": {},
   "outputs": [
    {
     "name": "stdout",
     "output_type": "stream",
     "text": [
      "target: composition      predicted: motions\n",
      "target: division         predicted: dividing\n",
      "target: widely           predicted: middle\n",
      "target: accepting        predicted: precinct\n",
      "target: indemnity        predicted: imminent\n",
      "target: polls            predicted: plays\n",
      "target: succeeds         predicted: succeed\n",
      "target: pardoned         predicted: dropped\n",
      "target: honest           predicted: northwestern\n",
      "target: poll             predicted: payroll\n"
     ]
    }
   ],
   "source": [
    "def get_n_words(dataset, n, model, ds, verbose=True):\n",
    "    if n == -1:\n",
    "        n = len(dataset)\n",
    "        \n",
    "    device = next(model.parameters()).device  # Automatically detect model device\n",
    "    \n",
    "    x = [dataset.__getitem__(i)[0].to(device) for i in range(n)]\n",
    "    y = [dataset.__getitem__(i)[1] for i in range(n)]\n",
    "    \n",
    "    idx_to_word = {idx: word for word, idx in ds.word_to_idx.items()}\n",
    "    target_words = [idx_to_word[_.item()] for _ in y]\n",
    "    \n",
    "    model.eval()\n",
    "    with torch.no_grad():\n",
    "        out = [nn.functional.softmax(model(wrd), dim=0).argmax() for wrd in x]\n",
    "    \n",
    "    predicted_words = [idx_to_word[_.item()] for _ in out]\n",
    "    width = max(len(word) for word in target_words) + 5\n",
    "    \n",
    "    if verbose:\n",
    "        print('\\n'.join([f'target: {t.ljust(width)} predicted: {p}' for t, p in zip(target_words, predicted_words)]))\n",
    "    \n",
    "    return target_words, predicted_words\n",
    "\n",
    "_,_ = get_n_words(test_dataset, 10, model, dataset)"
   ]
  },
  {
   "cell_type": "markdown",
   "metadata": {},
   "source": [
    "Why are some words incorrectly predicted?\n",
    "\n",
    "The model only uses letter counts to try and predict the correct word, without taking into account the ordering of these characters. This is a coarse-grained method that does not distinguish between a perfect match and potential anagrams. For example, the model would predict both listen and silent with equal probability for the target word listen. This is because they contain the exact same characters, and this is what this model looks for."
   ]
  },
  {
   "cell_type": "markdown",
   "metadata": {},
   "source": [
    "### Code + Written\n",
    "Research the Jaccard similarity metric for calculating the difference between the predicted word and the target word. Reference your sources and implement this metric in your code below. You can use the get_n_words function with n=-1 to get all the predicted and target words. Compare this method to similarity as measured with one of the word vector methods from A2, in writing and/or code.\n",
    "\n",
    "We obtained the Jaccard Similarity definition and example from: [LearnDataSci Glossary – Jaccard Similarity](https://www.learndatasci.com/glossary/jaccard-similarity/). The similarity measure from A2 that we chose was the cosine similarity score, measured between two GloVe word embeddings as from the [Stanford NLP paper on GloVe](https://nlp.stanford.edu/pubs/glove.pdf).\n",
    "\n",
    "The average Jaccard similarity score ended up being 0.7396, whereas the GloVe cosine similarity score averaged 0.2068. This makes sense as our model predictions were based on character-level similarity and were not able to capture semantic similarity between most word pairs. The Jaccard similarity rewards this as it is a superficial measure of unique character overlap, and does not take into account any shared meaning beyond that.\n",
    "\n",
    "The GloVe word embeddings on the other hand have been developed in such a way as to capture semantic similarities between words based on distributional patterns in large corpora. As our model was not able to capture these relationships, the cosine similarity scores reflect this, with the low scores demonstrating that the predicted words are not very semantically related to the target words.\n",
    "\n"
   ]
  },
  {
   "cell_type": "code",
   "execution_count": null,
   "metadata": {},
   "outputs": [
    {
     "name": "stdout",
     "output_type": "stream",
     "text": [
      "Average Jaccard similarity: 0.7396\n"
     ]
    },
    {
     "data": {
      "text/plain": [
       "0.7396028499278497"
      ]
     },
     "execution_count": 16,
     "metadata": {},
     "output_type": "execute_result"
    }
   ],
   "source": [
    "# Jaccard similarity\n",
    "# create function to calculate Jaccard similarity between two strings\n",
    "def jaccard_similarity(a: str, b: str) -> float:\n",
    "    ''' this function takes in two strings and returns the Jaccard similarity between them.'''\n",
    "\n",
    "    # convert strings to sets, get intersection and union\n",
    "    set_a = set(a)\n",
    "    set_b = set(b)\n",
    "    intersection = set_a.intersection(set_b)\n",
    "    union = set_a.union(set_b)\n",
    "\n",
    "    # check to make sure union is not empty\n",
    "    if not union:\n",
    "        return 0.0  \n",
    "    \n",
    "    # calculate and return final Jaccard similarity\n",
    "    return len(intersection) / len(union)\n",
    "\n",
    "# create function to calculate Jaccard similarity between target and predicted words\n",
    "def evaluate_jaccard(dataset, model, ds):\n",
    "    ''' this function takes in a dataset and a model and returns the average \n",
    "        Jaccard similarity between the target and predicted words from the dataset.'''\n",
    "    \n",
    "    # Get all target and predicted words\n",
    "    target_words, predicted_words = get_n_words(dataset, n=-1, model=model, ds=ds, verbose=False)\n",
    "\n",
    "    jaccard_scores = []\n",
    "\n",
    "    # get target, prediction pairs, their Jaccard similarity and append to list\n",
    "    for target, predicted in zip(target_words, predicted_words):\n",
    "        score = jaccard_similarity(target, predicted)\n",
    "        jaccard_scores.append(score)\n",
    "\n",
    "    # get average Jaccard score and print + return\n",
    "    avg_jaccard = sum(jaccard_scores) / len(jaccard_scores)\n",
    "    print(f\"Average Jaccard similarity: {avg_jaccard:.4f}\")\n",
    "    return avg_jaccard\n",
    "\n",
    "\n",
    "evaluate_jaccard(test_dataset, model, dataset)\n"
   ]
  },
  {
   "cell_type": "code",
   "execution_count": null,
   "metadata": {},
   "outputs": [
    {
     "name": "stdout",
     "output_type": "stream",
     "text": [
      "Average Cosine Similarity (GloVe): 0.2068\n",
      "Skipped 19 word pairs (not in GloVe vocab)\n"
     ]
    },
    {
     "data": {
      "text/plain": [
       "0.2067608164302555"
      ]
     },
     "execution_count": 17,
     "metadata": {},
     "output_type": "execute_result"
    }
   ],
   "source": [
    "# Method 2 GloVe word embeddings\n",
    "import gensim.downloader as api\n",
    "from sklearn.metrics.pairwise import cosine_similarity\n",
    "\n",
    "# get GloVe word embeddings\n",
    "wv = api.load(\"glove-wiki-gigaword-200\")\n",
    "\n",
    "# create function to calculate cosine similarity between two words from GloVe embeddings\n",
    "def glove_cosine_similarity(word1, word2, glove_model):\n",
    "    '''returns cosine similarity between two words using GloVe embeddings'''\n",
    "    if word1 in glove_model and word2 in glove_model:\n",
    "        v1 = glove_model[word1].reshape(1, -1)\n",
    "        v2 = glove_model[word2].reshape(1, -1)\n",
    "        return cosine_similarity(v1, v2)[0][0]\n",
    "    else:\n",
    "        return None  # Out-of-vocabulary\n",
    "    \n",
    "\n",
    "# get cosine similarity between the target and predicted words\n",
    "def evaluate_glove_cosine(dataset, model, ds, glove_model):\n",
    "    '''gets cosine similarity of predictions and targets using GloVe embeddings\n",
    "       and returns the average + number of missing words '''\n",
    "    \n",
    "    # get all target and predicted words\n",
    "    target_words, predicted_words = get_n_words(dataset, n=-1, model=model, ds=ds, verbose=False)\n",
    "    \n",
    "    cosine_scores = []\n",
    "    skipped = 0\n",
    "    \n",
    "    # get target, prediction pairs, their cosine similarity and append to list\n",
    "    for target, predicted in zip(target_words, predicted_words):\n",
    "        score = glove_cosine_similarity(target, predicted, glove_model)\n",
    "        if score is not None:\n",
    "            cosine_scores.append(score)\n",
    "        else:\n",
    "            skipped += 1\n",
    "\n",
    "    avg_score = sum(cosine_scores) / len(cosine_scores)\n",
    "    print(f\"Average Cosine Similarity (GloVe): {avg_score:.4f}\")\n",
    "    print(f\"Skipped {skipped} word pairs (one or both words not in GloVe vocab)\")\n",
    "    return avg_score\n",
    "\n",
    "evaluate_glove_cosine(test_dataset, model, dataset, wv)\n"
   ]
  },
  {
   "cell_type": "markdown",
   "metadata": {},
   "source": [
    "\n",
    "\n",
    "\n",
    "\n",
    "\n",
    "\n",
    "\n",
    "\n",
    " "
   ]
  }
 ],
 "metadata": {
  "kernelspec": {
   "display_name": "minai",
   "language": "python",
   "name": "python3"
  },
  "language_info": {
   "codemirror_mode": {
    "name": "ipython",
    "version": 3
   },
   "file_extension": ".py",
   "mimetype": "text/x-python",
   "name": "python",
   "nbconvert_exporter": "python",
   "pygments_lexer": "ipython3",
   "version": "3.9.18"
  }
 },
 "nbformat": 4,
 "nbformat_minor": 2
}
